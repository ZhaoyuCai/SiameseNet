{
 "cells": [
  {
   "cell_type": "code",
   "execution_count": 1,
   "metadata": {},
   "outputs": [],
   "source": [
    "import torch\n",
    "import torch.nn as nn\n",
    "from torch.autograd import Variable\n",
    "import torch.nn.functional as F\n",
    "import os\n",
    "from torch import optim\n",
    "from torchvision import models\n",
    "import numpy as np"
   ]
  },
  {
   "cell_type": "code",
   "execution_count": 2,
   "metadata": {},
   "outputs": [],
   "source": [
    "class SiameseNet(nn.Module):\n",
    "    def __init__(self, hidden_size = [256, 100]):\n",
    "        super(SiameseNet, self).__init__()\n",
    "        self.hidden_size = hidden_size\n",
    "        \n",
    "        # ResNet requires the input to be the size of [batch_size, 3, 224, 224]\n",
    "        self.ResNet34 = models.resnet34(pretrained=True)\n",
    "        for param in self.ResNet34.parameters():\n",
    "            param.requires_grad = False\n",
    "        self.ResNet34.fc = nn.Linear(512, hidden_size[0])\n",
    "        self.ResNet34.fc.requires_grad = True\n",
    "        \n",
    "        self.FC1 = nn.Linear(2 * hidden_size[0], hidden_size[1])\n",
    "        self.Output = nn.Linear(hidden_size[1], 1)\n",
    "    \n",
    "    def forward(self, img1, img2):\n",
    "        out1 = self.ResNet34(img1).view(-1, self.hidden_size[0])\n",
    "        out2 = self.ResNet34(img2).view(-1, self.hidden_size[0])\n",
    "        out = torch.cat([out1, out2], dim=1)\n",
    "        out = F.tanh(self.FC1(out))\n",
    "        out = self.Output(out)\n",
    "        return out\n",
    "    \n",
    "    def save(self, filename='checkpoint.pt', is_best=False, epoch = ''):\n",
    "        torch.save(self.state_dict(), filename)\n",
    "        if is_best:\n",
    "            toch.save(self.state_dict(), 'best.pt')\n",
    "    \n",
    "    def load(self, filename='checkpoint.pt'):\n",
    "        self.load_state_dict(torch.load(filename))"
   ]
  },
  {
   "cell_type": "code",
   "execution_count": 3,
   "metadata": {},
   "outputs": [],
   "source": [
    "x1 = Variable(torch.rand(32, 3, 224, 224)).cuda()\n",
    "x2 = Variable(torch.rand(32, 3, 224, 224)).cuda()\n",
    "diff = Variable(torch.rand(32, 1)).cuda()"
   ]
  },
  {
   "cell_type": "code",
   "execution_count": 4,
   "metadata": {},
   "outputs": [],
   "source": [
    "batch_size, num_classes = 32, 3\n",
    "label_type = None\n",
    "\n",
    "model = SiameseNet().cuda()\n",
    "# y_pred = model.forward(x1, x2)\n",
    "criterion = nn.MSELoss()\n",
    "if label_type and label_type == 'categorical':\n",
    "    criterion == nn.CrossEntropyLoss()\n",
    "params = filter(lambda p: p.requires_grad, model.parameters())\n",
    "optimizer = optim.Adam(params, lr=0.0001)\n",
    "\n",
    "losses = []"
   ]
  },
  {
   "cell_type": "code",
   "execution_count": 5,
   "metadata": {},
   "outputs": [],
   "source": [
    "def mse_loss(input, target):\n",
    "    return torch.sum((input - target) ** 2) / input.data.nelement()"
   ]
  },
  {
   "cell_type": "code",
   "execution_count": 6,
   "metadata": {},
   "outputs": [
    {
     "name": "stdout",
     "output_type": "stream",
     "text": [
      "0 tensor(0.4023, device='cuda:0')\n",
      "100 tensor(1.00000e-06 *\n",
      "       9.0790, device='cuda:0')\n",
      "tensor([[ 0.1652],\n",
      "        [ 0.6762],\n",
      "        [ 0.0152],\n",
      "        [ 0.5734],\n",
      "        [ 0.2580],\n",
      "        [ 0.7373],\n",
      "        [ 0.1691],\n",
      "        [ 0.6825],\n",
      "        [ 0.0103],\n",
      "        [ 0.7213],\n",
      "        [ 0.0739],\n",
      "        [ 0.8589],\n",
      "        [ 0.0918],\n",
      "        [ 0.3416],\n",
      "        [ 0.0079],\n",
      "        [ 0.6057],\n",
      "        [ 0.2454],\n",
      "        [ 0.9355],\n",
      "        [ 0.9538],\n",
      "        [ 0.6154],\n",
      "        [ 0.1043],\n",
      "        [ 0.4078],\n",
      "        [ 0.7000],\n",
      "        [ 0.6773],\n",
      "        [ 0.5595],\n",
      "        [ 0.9438],\n",
      "        [ 0.7610],\n",
      "        [ 0.6861],\n",
      "        [ 0.6761],\n",
      "        [ 0.6715],\n",
      "        [ 0.1691],\n",
      "        [ 0.3603]], device='cuda:0')\n"
     ]
    }
   ],
   "source": [
    "for epoch in range(200):\n",
    "    # Forward pass\n",
    "    diff_pred = model.forward(x1, x2)\n",
    "    \n",
    "    # compute and print loss\n",
    "    loss = mse_loss(diff_pred, diff)\n",
    "    losses.append(loss.data)\n",
    "    if epoch % 100 == 0:\n",
    "        print(epoch, loss.data)\n",
    "        \n",
    "    # zero grads\n",
    "    optimizer.zero_grad()\n",
    "    loss.backward()\n",
    "    optimizer.step()\n",
    "\n",
    "print(model.forward(x1, x2))\n",
    "model.save()"
   ]
  },
  {
   "cell_type": "code",
   "execution_count": 7,
   "metadata": {},
   "outputs": [
    {
     "name": "stdout",
     "output_type": "stream",
     "text": [
      "tensor([[ 0.1652],\n",
      "        [ 0.6762],\n",
      "        [ 0.0152],\n",
      "        [ 0.5734],\n",
      "        [ 0.2580],\n",
      "        [ 0.7373],\n",
      "        [ 0.1691],\n",
      "        [ 0.6825],\n",
      "        [ 0.0103],\n",
      "        [ 0.7213],\n",
      "        [ 0.0739],\n",
      "        [ 0.8589],\n",
      "        [ 0.0918],\n",
      "        [ 0.3416],\n",
      "        [ 0.0079],\n",
      "        [ 0.6057],\n",
      "        [ 0.2454],\n",
      "        [ 0.9355],\n",
      "        [ 0.9538],\n",
      "        [ 0.6154],\n",
      "        [ 0.1043],\n",
      "        [ 0.4078],\n",
      "        [ 0.7000],\n",
      "        [ 0.6773],\n",
      "        [ 0.5595],\n",
      "        [ 0.9438],\n",
      "        [ 0.7610],\n",
      "        [ 0.6861],\n",
      "        [ 0.6761],\n",
      "        [ 0.6715],\n",
      "        [ 0.1691],\n",
      "        [ 0.3603]], device='cuda:0')\n"
     ]
    }
   ],
   "source": [
    "model2 = SiameseNet().cuda()\n",
    "model2.load()\n",
    "\n",
    "print(model2.forward(x1, x2))"
   ]
  },
  {
   "cell_type": "code",
   "execution_count": null,
   "metadata": {},
   "outputs": [],
   "source": []
  }
 ],
 "metadata": {
  "kernelspec": {
   "display_name": "Python 3",
   "language": "python",
   "name": "python3"
  },
  "language_info": {
   "codemirror_mode": {
    "name": "ipython",
    "version": 3
   },
   "file_extension": ".py",
   "mimetype": "text/x-python",
   "name": "python",
   "nbconvert_exporter": "python",
   "pygments_lexer": "ipython3",
   "version": "3.6.4"
  }
 },
 "nbformat": 4,
 "nbformat_minor": 2
}
