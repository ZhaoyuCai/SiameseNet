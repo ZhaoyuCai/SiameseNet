{
 "cells": [
  {
   "cell_type": "code",
   "execution_count": 3,
   "metadata": {},
   "outputs": [],
   "source": [
    "import torch\n",
    "import torch.nn as nn\n",
    "from torch.autograd import Variable\n",
    "import torch.nn.functional as F\n",
    "import os\n",
    "from torch import optim\n",
    "from torchvision import models\n",
    "import numpy as np"
   ]
  },
  {
   "cell_type": "code",
   "execution_count": 26,
   "metadata": {},
   "outputs": [],
   "source": [
    "class SiameseNet(nn.Module):\n",
    "    def __init__(self, hidden_size = [256, 100]):\n",
    "        super(SiameseNet, self).__init__()\n",
    "        self.hidden_size = hidden_size\n",
    "        \n",
    "        # ResNet requires the input to be the size of [batch_size, 3, 224, 224]\n",
    "        self.ResNet34 = models.resnet34(pretrained=True)\n",
    "        for param in self.ResNet34.parameters():\n",
    "            param.requires_grad = False\n",
    "        self.ResNet34.fc = nn.Linear(512, hidden_size[0])\n",
    "        self.ResNet34.fc.requires_grad = True\n",
    "        \n",
    "        self.FC1 = nn.Linear(2 * hidden_size[0], hidden_size[1])\n",
    "        self.Output = nn.Linear(hidden_size[1], 1)\n",
    "    \n",
    "    def forward(self, img1, img2):\n",
    "        out1 = self.ResNet34(img1).view(-1, self.hidden_size[0])\n",
    "        out2 = self.ResNet34(img2).view(-1, self.hidden_size[0])\n",
    "        out = torch.cat([out1, out2], dim=1)\n",
    "        out = F.tanh(self.FC1(out))\n",
    "        out = self.Output(out)\n",
    "        return out"
   ]
  },
  {
   "cell_type": "code",
   "execution_count": 47,
   "metadata": {},
   "outputs": [],
   "source": [
    "x1 = Variable(torch.rand(32, 3, 224, 224)).cuda()\n",
    "x2 = Variable(torch.rand(32, 3, 224, 224)).cuda()\n",
    "diff = Variable(torch.rand(32, 1)).cuda()"
   ]
  },
  {
   "cell_type": "code",
   "execution_count": 48,
   "metadata": {},
   "outputs": [],
   "source": [
    "batch_size, num_classes = 32, 3\n",
    "label_type = None\n",
    "\n",
    "model = SiameseNet().cuda()\n",
    "# y_pred = model.forward(x1, x2)\n",
    "criterion = nn.MSELoss()\n",
    "if label_type and label_type == 'categorical':\n",
    "    criterion == nn.CrossEntropyLoss()\n",
    "params = filter(lambda p: p.requires_grad, model.parameters())\n",
    "optimizer = optim.Adam(params, lr=0.0001)\n",
    "\n",
    "losses = []"
   ]
  },
  {
   "cell_type": "code",
   "execution_count": 42,
   "metadata": {},
   "outputs": [],
   "source": [
    "def mse_loss(input, target):\n",
    "    return torch.sum((input - target) ** 2) / input.data.nelement()"
   ]
  },
  {
   "cell_type": "code",
   "execution_count": 49,
   "metadata": {},
   "outputs": [
    {
     "name": "stdout",
     "output_type": "stream",
     "text": [
      "0 tensor(0.3189, device='cuda:0')\n",
      "100 tensor(1.00000e-06 *\n",
      "       8.9875, device='cuda:0')\n",
      "200 tensor(1.00000e-10 *\n",
      "       2.1463, device='cuda:0')\n",
      "300 tensor(1.00000e-14 *\n",
      "       1.5011, device='cuda:0')\n",
      "400 tensor(1.00000e-15 *\n",
      "       3.5024, device='cuda:0')\n"
     ]
    }
   ],
   "source": [
    "for epoch in range(500):\n",
    "    # Forward pass\n",
    "    diff_pred = model.forward(x1, x2)\n",
    "    \n",
    "    # compute and print loss\n",
    "    loss = mse_loss(diff_pred, diff)\n",
    "    losses.append(loss.data)\n",
    "    if epoch % 100 == 0:\n",
    "        print(epoch, loss.data)\n",
    "        \n",
    "    # zero grads\n",
    "    optimizer.zero_grad()\n",
    "    loss.backward()\n",
    "    optimizer.step()"
   ]
  },
  {
   "cell_type": "code",
   "execution_count": null,
   "metadata": {},
   "outputs": [],
   "source": []
  },
  {
   "cell_type": "code",
   "execution_count": null,
   "metadata": {},
   "outputs": [],
   "source": []
  }
 ],
 "metadata": {
  "kernelspec": {
   "display_name": "Python 3",
   "language": "python",
   "name": "python3"
  },
  "language_info": {
   "codemirror_mode": {
    "name": "ipython",
    "version": 3
   },
   "file_extension": ".py",
   "mimetype": "text/x-python",
   "name": "python",
   "nbconvert_exporter": "python",
   "pygments_lexer": "ipython3",
   "version": "3.6.4"
  }
 },
 "nbformat": 4,
 "nbformat_minor": 2
}
