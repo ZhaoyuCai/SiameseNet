{
 "cells": [
  {
   "cell_type": "code",
   "execution_count": 33,
   "metadata": {
    "collapsed": true
   },
   "outputs": [],
   "source": [
    "import torch \n",
    "import torch.nn as nn\n",
    "from torch.autograd import Variable\n",
    "import torch.nn.functional as F\n",
    "import os\n",
    "from torch import optim\n",
    "import numpy as np"
   ]
  },
  {
   "cell_type": "code",
   "execution_count": 17,
   "metadata": {
    "collapsed": true
   },
   "outputs": [],
   "source": [
    "class SiameseNet(nn.Module):\n",
    "    def __init__(self, input_size, hidden_size):\n",
    "        super(SiameseNet, self).__init__()\n",
    "        self.hidden_size = hidden_size\n",
    "        \n",
    "        self.Linear1 = nn.Linear(input_size, hidden_size)\n",
    "        self.Linear2 = nn.Linear(hidden_size, hidden_size)\n",
    "        self.Output = nn.Linear(hidden_size, 1)\n",
    "        \n",
    "    def forward_single(self, input):\n",
    "        out = F.relu(self.Linear1(input))\n",
    "        out = F.relu(self.Linear2(out))\n",
    "        out = self.Output(out)\n",
    "        return out\n",
    "    \n",
    "    def forward(self, input1, input2, concat=False):\n",
    "        out1 = self.forward_single(input1)\n",
    "        out2 = self.forward_single(input2)\n",
    "        if concat:\n",
    "            return torch.cat([out1, out2], axis=1)\n",
    "        return (out1, out2)\n",
    "        "
   ]
  },
  {
   "cell_type": "code",
   "execution_count": 21,
   "metadata": {
    "collapsed": true
   },
   "outputs": [],
   "source": [
    "t = SiameseNet(1000, 100)"
   ]
  },
  {
   "cell_type": "code",
   "execution_count": 18,
   "metadata": {
    "collapsed": true
   },
   "outputs": [],
   "source": [
    "class ContrastiveLoss(nn.Module):\n",
    "    def __init__(self, margin=2.0):\n",
    "        super(ContrastiveLoss, self).__init__()\n",
    "        self.margin = margin\n",
    "\n",
    "    def forward(self, output1, output2, label):\n",
    "        euclidean_distance = F.pairwise_distance(output1, output2)\n",
    "        loss_contrastive = torch.mean((1-label) * torch.pow(euclidean_distance, 2) +\n",
    "                                      (label) * torch.pow(torch.clamp(self.margin - euclidean_distance, min=0.0), 2))\n",
    "\n",
    "\n",
    "        return loss_contrastive"
   ]
  },
  {
   "cell_type": "code",
   "execution_count": 34,
   "metadata": {},
   "outputs": [],
   "source": [
    "batch_size, input_size, hidden_size, num_classes = 64, 1000, 100, 3\n",
    "\n",
    "x1 = torch.rand(batch_size, input_size)\n",
    "x2 = torch.rand(batch_size, input_size)\n",
    "x1 = Variable(x1)\n",
    "x2 = Variable(x2)\n",
    "\n",
    "label = np.random.randint(0, 1, size = (batch_size, 1))\n",
    "label = Variable(torch.Tensor(label))\n",
    "\n",
    "model = SiameseNet(input_size, hidden_size)\n",
    "criterion = ContrastiveLoss()\n",
    "optimizer = optim.Adam(model.parameters(), lr = 0.001)\n",
    "\n",
    "losses = []"
   ]
  },
  {
   "cell_type": "code",
   "execution_count": 35,
   "metadata": {},
   "outputs": [
    {
     "name": "stdout",
     "output_type": "stream",
     "text": [
      "0 \n",
      "1.00000e-03 *\n",
      "  1.2658\n",
      "[torch.FloatTensor of size 1]\n",
      "\n",
      "100 \n",
      "1.00000e-10 *\n",
      "  9.1805\n",
      "[torch.FloatTensor of size 1]\n",
      "\n",
      "200 \n",
      "1.00000e-09 *\n",
      "  3.8201\n",
      "[torch.FloatTensor of size 1]\n",
      "\n",
      "300 \n",
      "1.00000e-10 *\n",
      "  9.3234\n",
      "[torch.FloatTensor of size 1]\n",
      "\n",
      "400 \n",
      "1.00000e-12 *\n",
      "  2.1943\n",
      "[torch.FloatTensor of size 1]\n",
      "\n"
     ]
    }
   ],
   "source": [
    "for t in range(500):\n",
    "    # Forward pass: Compute predicted y by passing x to the model\n",
    "    y1_pred, y2_pred = model.forward(x1, x2)\n",
    "\n",
    "    # Compute and print loss\n",
    "    loss = criterion.forward(y1_pred, y2_pred, label)\n",
    "    if t % 100 == 0:\n",
    "        print(t, loss.data)\n",
    "\n",
    "    # Zero gradients, perform a backward pass, and update the weights.\n",
    "    optimizer.zero_grad()\n",
    "    loss.backward()\n",
    "    optimizer.step()"
   ]
  },
  {
   "cell_type": "code",
   "execution_count": null,
   "metadata": {
    "collapsed": true
   },
   "outputs": [],
   "source": [
    "class BatchGenerator():\n",
    "    def __init__(self, X, Y, batch_size):"
   ]
  }
 ],
 "metadata": {
  "kernelspec": {
   "display_name": "Python 3",
   "language": "python",
   "name": "python3"
  },
  "language_info": {
   "codemirror_mode": {
    "name": "ipython",
    "version": 3
   },
   "file_extension": ".py",
   "mimetype": "text/x-python",
   "name": "python",
   "nbconvert_exporter": "python",
   "pygments_lexer": "ipython3",
   "version": "3.6.1"
  }
 },
 "nbformat": 4,
 "nbformat_minor": 2
}
