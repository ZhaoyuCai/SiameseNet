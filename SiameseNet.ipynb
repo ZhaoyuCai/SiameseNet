{
 "cells": [
  {
   "cell_type": "code",
   "execution_count": 1,
   "metadata": {
    "collapsed": true
   },
   "outputs": [],
   "source": [
    "import torch \n",
    "import torch.nn as nn\n",
    "from torch.autograd import Variable\n",
    "import torch.nn.functional as F\n",
    "import os\n",
    "from torch import optim"
   ]
  },
  {
   "cell_type": "code",
   "execution_count": 3,
   "metadata": {
    "collapsed": true
   },
   "outputs": [],
   "source": [
    "class SiameseNet(nn.Module):\n",
    "    def __init__(self, input_size, hidden_size):\n",
    "        super(SiameseNet, self).__init__()\n",
    "        self.hidden_size = hidden_size\n",
    "        \n",
    "        self.Linear1 = nn.Linear(input_size, hidden_size)\n",
    "        self.Linear2 = nn.Linear(hidden_size, hidden_size)\n",
    "        self.Output = nn.Linear(hidden_size, 1)\n",
    "        \n",
    "    def forward_single(self, input):\n",
    "        out = F.relu(self.Linear1(input))\n",
    "        out = F.relu(self.Linear(out))\n",
    "        out = self.Output(out)\n",
    "        return out\n",
    "    \n",
    "    def forward(self, input1, input2, concat=False):\n",
    "        out1 = self.forward_single(input1)\n",
    "        out2 = self.forward_single(input2)\n",
    "        if concat:\n",
    "            return torch.cat([out1, out2], axis=1)\n",
    "        return (out1, out2)\n",
    "        "
   ]
  },
  {
   "cell_type": "code",
   "execution_count": 2,
   "metadata": {
    "collapsed": true
   },
   "outputs": [],
   "source": [
    "class ContrastiveLoss(nn.Module):\n",
    "    def __init__(self, margin=2.0):\n",
    "        super(ContrastiveLoss, self).__init__()\n",
    "        self.margin = margin\n",
    "\n",
    "    def forward(self, output1, output2, label):\n",
    "        euclidean_distance = F.pairwise_distance(output1, output2)\n",
    "        loss_contrastive = torch.mean((1-label) * torch.pow(euclidean_distance, 2) +\n",
    "                                      (label) * torch.pow(torch.clamp(self.margin - euclidean_distance, min=0.0), 2))\n",
    "\n",
    "\n",
    "        return loss_contrastive"
   ]
  },
  {
   "cell_type": "code",
   "execution_count": null,
   "metadata": {
    "collapsed": true
   },
   "outputs": [],
   "source": [
    "class "
   ]
  }
 ],
 "metadata": {
  "kernelspec": {
   "display_name": "Python 3",
   "language": "python",
   "name": "python3"
  },
  "language_info": {
   "codemirror_mode": {
    "name": "ipython",
    "version": 3
   },
   "file_extension": ".py",
   "mimetype": "text/x-python",
   "name": "python",
   "nbconvert_exporter": "python",
   "pygments_lexer": "ipython3",
   "version": "3.6.1"
  }
 },
 "nbformat": 4,
 "nbformat_minor": 2
}
